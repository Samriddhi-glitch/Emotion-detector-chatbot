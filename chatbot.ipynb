{
 "cells": [
  {
   "cell_type": "code",
   "execution_count": 2,
   "metadata": {},
   "outputs": [
    {
     "name": "stdout",
     "output_type": "stream",
     "text": [
      "Collecting requests\n",
      "  Obtaining dependency information for requests from https://files.pythonhosted.org/packages/f9/9b/335f9764261e915ed497fcdeb11df5dfd6f7bf257d4a6a2a686d80da4d54/requests-2.32.3-py3-none-any.whl.metadata\n",
      "  Using cached requests-2.32.3-py3-none-any.whl.metadata (4.6 kB)\n",
      "Requirement already satisfied: charset-normalizer<4,>=2 in c:\\python312\\lib\\site-packages (from requests) (3.4.1)\n",
      "Requirement already satisfied: idna<4,>=2.5 in c:\\python312\\lib\\site-packages (from requests) (3.10)\n",
      "Requirement already satisfied: urllib3<3,>=1.21.1 in c:\\python312\\lib\\site-packages (from requests) (2.3.0)\n",
      "Collecting certifi>=2017.4.17 (from requests)\n",
      "  Obtaining dependency information for certifi>=2017.4.17 from https://files.pythonhosted.org/packages/38/fc/bce832fd4fd99766c04d1ee0eead6b0ec6486fb100ae5e74c1d91292b982/certifi-2025.1.31-py3-none-any.whl.metadata\n",
      "  Using cached certifi-2025.1.31-py3-none-any.whl.metadata (2.5 kB)\n",
      "Using cached requests-2.32.3-py3-none-any.whl (64 kB)\n",
      "Using cached certifi-2025.1.31-py3-none-any.whl (166 kB)\n",
      "Installing collected packages: certifi, requests\n",
      "Successfully installed certifi-2025.1.31 requests-2.32.3\n",
      "Note: you may need to restart the kernel to use updated packages.\n"
     ]
    },
    {
     "name": "stderr",
     "output_type": "stream",
     "text": [
      "\n",
      "[notice] A new release of pip is available: 23.2.1 -> 25.0.1\n",
      "[notice] To update, run: python.exe -m pip install --upgrade pip\n"
     ]
    }
   ],
   "source": [
    "%pip install requests"
   ]
  },
  {
   "cell_type": "code",
   "execution_count": 2,
   "metadata": {},
   "outputs": [],
   "source": [
    "import requests\n",
    "\n",
    "def pull_ollama_model(model_name):\n",
    "    url = \"http://localhost:11434/api/pull\"\n",
    "    payload = {\"name\": model_name}\n",
    "    try:\n",
    "        response = requests.post(url, json=payload)\n",
    "        if response.status_code == 200:\n",
    "            return f\"Model '{model_name}' pulled successfully!\"\n",
    "        else:\n",
    "            return f\"Failed to pull model '{model_name}'. Error: {response.json()}\"\n",
    "    \n",
    "    except requests.exceptions.RequestException as e:\n",
    "        return f\"Error connecting to Ollama: {e}\""
   ]
  },
  {
   "cell_type": "code",
   "execution_count": 3,
   "metadata": {},
   "outputs": [
    {
     "name": "stdout",
     "output_type": "stream",
     "text": [
      "Sentiment: negative\n"
     ]
    }
   ],
   "source": [
    "def analyze_sentiment(text, model_name=\"mistral\"):\n",
    "    url = \"http://localhost:11434/api/generate\"\n",
    "    payload = {\n",
    "        \"model\": model_name,\n",
    "        \"prompt\": f\"Analyze the sentiment of this text and respond with only 'positive', 'negative', or 'neutral':\\n\\n{text}\",\n",
    "        \"stream\": False\n",
    "    }\n",
    "    \n",
    "    response = requests.post(url, json=payload)\n",
    "    \n",
    "    if response.status_code == 200:\n",
    "        result = response.json().get(\"response\", \"\").strip().lower()\n",
    "        return f\"Sentiment: {result}\"\n",
    "    else:\n",
    "        return f\"Error analyzing sentiment: {response.text}\"\n",
    "\n",
    "# Example usage:\n",
    "text_input =input(\"enter the text : \")\n",
    "print(analyze_sentiment(text_input))"
   ]
  },
  {
   "cell_type": "code",
   "execution_count": 4,
   "metadata": {},
   "outputs": [],
   "source": [
    "def detect_full_emotion(text, model_name=\"mistral\"):\n",
    "    url = \"http://localhost:11434/api/generate\"\n",
    "\n",
    "    emotions = [\n",
    "        \"joy\", \"excitement\", \"love\", \"contentment\", \"pride\", \"relief\",\n",
    "        \"sadness\", \"anger\", \"fear\", \"disgust\", \"guilt\", \"shame\",\n",
    "        \"surprise\", \"awe\", \"curiosity\",\n",
    "        \"calm\", \"neutral\", \"confusion\"\n",
    "    ]\n",
    "    \n",
    "    prompt = (\n",
    "        f\"Analyze the following text and identify the primary emotion. \"\n",
    "        f\"Respond with only one word from this list of emotions: {', '.join(emotions)}.\\n\\n\"\n",
    "        f\"Text: \\\"{text}\\\"\"\n",
    "    )\n",
    "\n",
    "    payload = {\n",
    "        \"model\": model_name,\n",
    "        \"prompt\": prompt,\n",
    "        \"stream\": False\n",
    "    }\n",
    "\n",
    "    response = requests.post(url, json=payload)\n",
    "\n",
    "    if response.status_code == 200:\n",
    "       \n",
    "        result = response.json().get(\"response\", \"\").strip().lower()\n",
    "        if result in emotions:\n",
    "            return f\"🧠 Detected Emotion: {result}\"\n",
    "        else:\n",
    "            return f\"⚠ Detected an unknown emotion: {result}\"\n",
    "    else:\n",
    "        return f\"❌ Error analyzing emotion: {response.text}\""
   ]
  },
  {
   "cell_type": "code",
   "execution_count": 5,
   "metadata": {},
   "outputs": [
    {
     "data": {
      "text/plain": [
       "'🧠 Detected Emotion: contentment'"
      ]
     },
     "execution_count": 5,
     "metadata": {},
     "output_type": "execute_result"
    }
   ],
   "source": [
    "text=input(\"enter the sentence\")\n",
    "detect_full_emotion(text)"
   ]
  }
 ],
 "metadata": {
  "kernelspec": {
   "display_name": "Python 3",
   "language": "python",
   "name": "python3"
  },
  "language_info": {
   "codemirror_mode": {
    "name": "ipython",
    "version": 3
   },
   "file_extension": ".py",
   "mimetype": "text/x-python",
   "name": "python",
   "nbconvert_exporter": "python",
   "pygments_lexer": "ipython3",
   "version": "3.12.1"
  }
 },
 "nbformat": 4,
 "nbformat_minor": 2
}
